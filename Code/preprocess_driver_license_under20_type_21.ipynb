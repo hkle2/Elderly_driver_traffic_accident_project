{
 "cells": [
  {
   "cell_type": "code",
   "execution_count": 1,
   "id": "41f4064d-0bff-4cce-bd1b-1ed59706fe7d",
   "metadata": {},
   "outputs": [],
   "source": [
    "import pandas as pd\n",
    "from matplotlib import pyplot as plt\n",
    "import csv"
   ]
  },
  {
   "cell_type": "code",
   "execution_count": 2,
   "id": "e3c24aa2-7e53-4baa-b199-04307fc6d80c",
   "metadata": {},
   "outputs": [],
   "source": [
    "df_licens_10_21 = pd.read_csv(\"./data/driver_license_21.csv\", encoding=\"cp949\")"
   ]
  },
  {
   "cell_type": "code",
   "execution_count": 3,
   "id": "2a4efb6e-3d09-48a6-802c-29e328cfb130",
   "metadata": {},
   "outputs": [],
   "source": [
    "df_licens_10_21 = df_licens_10_21.head(2)\n",
    "df_licens_10_21.rename(columns={\"연령대\": \"age_group\"}, inplace=True)\n",
    "df_licens_10_21 = df_licens_10_21.drop(columns=[\"성별\"])\n",
    "df_licens_10_21 = df_licens_10_21.set_index(\"age_group\")"
   ]
  },
  {
   "cell_type": "code",
   "execution_count": 4,
   "id": "3852b716-0d95-461e-9c34-d1dcda37a43e",
   "metadata": {},
   "outputs": [
    {
     "data": {
      "text/html": [
       "<div>\n",
       "<style scoped>\n",
       "    .dataframe tbody tr th:only-of-type {\n",
       "        vertical-align: middle;\n",
       "    }\n",
       "\n",
       "    .dataframe tbody tr th {\n",
       "        vertical-align: top;\n",
       "    }\n",
       "\n",
       "    .dataframe thead th {\n",
       "        text-align: right;\n",
       "    }\n",
       "</style>\n",
       "<table border=\"1\" class=\"dataframe\">\n",
       "  <thead>\n",
       "    <tr style=\"text-align: right;\">\n",
       "      <th></th>\n",
       "      <th>1종_대형</th>\n",
       "      <th>1종_보통</th>\n",
       "      <th>1종_소형</th>\n",
       "      <th>1종_대형견인</th>\n",
       "      <th>1종_소형견인</th>\n",
       "      <th>1종_구난</th>\n",
       "      <th>2종_보통</th>\n",
       "      <th>2종_소형</th>\n",
       "      <th>2종_원자</th>\n",
       "    </tr>\n",
       "    <tr>\n",
       "      <th>age_group</th>\n",
       "      <th></th>\n",
       "      <th></th>\n",
       "      <th></th>\n",
       "      <th></th>\n",
       "      <th></th>\n",
       "      <th></th>\n",
       "      <th></th>\n",
       "      <th></th>\n",
       "      <th></th>\n",
       "    </tr>\n",
       "  </thead>\n",
       "  <tbody>\n",
       "    <tr>\n",
       "      <th>16 - 19</th>\n",
       "      <td>724</td>\n",
       "      <td>123916</td>\n",
       "      <td>0</td>\n",
       "      <td>0</td>\n",
       "      <td>0</td>\n",
       "      <td>3</td>\n",
       "      <td>49060</td>\n",
       "      <td>333</td>\n",
       "      <td>11000</td>\n",
       "    </tr>\n",
       "    <tr>\n",
       "      <th>16 - 19</th>\n",
       "      <td>44</td>\n",
       "      <td>17336</td>\n",
       "      <td>0</td>\n",
       "      <td>0</td>\n",
       "      <td>0</td>\n",
       "      <td>0</td>\n",
       "      <td>76813</td>\n",
       "      <td>9</td>\n",
       "      <td>395</td>\n",
       "    </tr>\n",
       "  </tbody>\n",
       "</table>\n",
       "</div>"
      ],
      "text/plain": [
       "           1종_대형   1종_보통  1종_소형  1종_대형견인  1종_소형견인  1종_구난  2종_보통  2종_소형  2종_원자\n",
       "age_group                                                                    \n",
       "16 - 19      724  123916      0        0        0      3  49060    333  11000\n",
       "16 - 19       44   17336      0        0        0      0  76813      9    395"
      ]
     },
     "execution_count": 4,
     "metadata": {},
     "output_type": "execute_result"
    }
   ],
   "source": [
    "df_licens_10_21"
   ]
  },
  {
   "cell_type": "code",
   "execution_count": 5,
   "id": "71ebc13e-3522-4054-92fe-e5143400e132",
   "metadata": {},
   "outputs": [],
   "source": [
    "df_licens_10_21.rename(columns={\"1종_대형\": \"1종대형\", \"1종_보통\": \"1종보통\", \"1종_소형\": \"1종소형\", \"1종_대형견인\": \"대형견인\", \"1종_소형견인\": \"소형견인\", \"1종_구난\": \"구난\", \"2종_보통\": \"2종보통\", \"2종_소형\": \"2종소형\", \"2종_원자\": \"원자\"}, inplace=True)"
   ]
  },
  {
   "cell_type": "code",
   "execution_count": 6,
   "id": "e4f49525-c904-4a23-98f3-5f38bb2bd488",
   "metadata": {},
   "outputs": [],
   "source": [
    "df_licens_10_21.loc[\"total\"] = df_licens_10_21.sum(axis=0)\n",
    "df_licens_10_21 = df_licens_10_21.tail(1)\n",
    "df_licens_10_21 = df_licens_10_21.transpose()"
   ]
  },
  {
   "cell_type": "code",
   "execution_count": 7,
   "id": "8d11dd1d-51ca-4549-9e9d-e6f7674ce26e",
   "metadata": {},
   "outputs": [
    {
     "data": {
      "text/html": [
       "<div>\n",
       "<style scoped>\n",
       "    .dataframe tbody tr th:only-of-type {\n",
       "        vertical-align: middle;\n",
       "    }\n",
       "\n",
       "    .dataframe tbody tr th {\n",
       "        vertical-align: top;\n",
       "    }\n",
       "\n",
       "    .dataframe thead th {\n",
       "        text-align: right;\n",
       "    }\n",
       "</style>\n",
       "<table border=\"1\" class=\"dataframe\">\n",
       "  <thead>\n",
       "    <tr style=\"text-align: right;\">\n",
       "      <th>age_group</th>\n",
       "      <th>total</th>\n",
       "    </tr>\n",
       "  </thead>\n",
       "  <tbody>\n",
       "    <tr>\n",
       "      <th>1종대형</th>\n",
       "      <td>768</td>\n",
       "    </tr>\n",
       "    <tr>\n",
       "      <th>1종보통</th>\n",
       "      <td>141252</td>\n",
       "    </tr>\n",
       "    <tr>\n",
       "      <th>1종소형</th>\n",
       "      <td>0</td>\n",
       "    </tr>\n",
       "    <tr>\n",
       "      <th>대형견인</th>\n",
       "      <td>0</td>\n",
       "    </tr>\n",
       "    <tr>\n",
       "      <th>소형견인</th>\n",
       "      <td>0</td>\n",
       "    </tr>\n",
       "    <tr>\n",
       "      <th>구난</th>\n",
       "      <td>3</td>\n",
       "    </tr>\n",
       "    <tr>\n",
       "      <th>2종보통</th>\n",
       "      <td>125873</td>\n",
       "    </tr>\n",
       "    <tr>\n",
       "      <th>2종소형</th>\n",
       "      <td>342</td>\n",
       "    </tr>\n",
       "    <tr>\n",
       "      <th>원자</th>\n",
       "      <td>11395</td>\n",
       "    </tr>\n",
       "  </tbody>\n",
       "</table>\n",
       "</div>"
      ],
      "text/plain": [
       "age_group   total\n",
       "1종대형          768\n",
       "1종보통       141252\n",
       "1종소형            0\n",
       "대형견인            0\n",
       "소형견인            0\n",
       "구난              3\n",
       "2종보통       125873\n",
       "2종소형          342\n",
       "원자          11395"
      ]
     },
     "execution_count": 7,
     "metadata": {},
     "output_type": "execute_result"
    }
   ],
   "source": [
    "df_licens_10_21"
   ]
  },
  {
   "cell_type": "code",
   "execution_count": 8,
   "id": "b2001385-5d76-4a67-9e5b-0d61c6f52482",
   "metadata": {},
   "outputs": [],
   "source": [
    "df_licens_10_21.index.name = \"type\""
   ]
  },
  {
   "cell_type": "code",
   "execution_count": 9,
   "id": "1dff6dc0-3dca-4c65-957e-f6283112951a",
   "metadata": {},
   "outputs": [],
   "source": [
    "df_licens_10_21.to_csv(\"./data/pre_driver_license_under20_type_21.csv\", encoding=\"utf-8\")"
   ]
  },
  {
   "cell_type": "code",
   "execution_count": 10,
   "id": "9bc2555c-adb3-4ef2-9b29-e1649f98ddb7",
   "metadata": {},
   "outputs": [],
   "source": [
    "df = pd.read_csv(\"./data/pre_driver_license_under20_type_21.csv\", encoding=\"utf-8\")"
   ]
  },
  {
   "cell_type": "code",
   "execution_count": 11,
   "id": "b5026b88-44fa-479c-8832-7620013df7d6",
   "metadata": {},
   "outputs": [
    {
     "data": {
      "text/html": [
       "<div>\n",
       "<style scoped>\n",
       "    .dataframe tbody tr th:only-of-type {\n",
       "        vertical-align: middle;\n",
       "    }\n",
       "\n",
       "    .dataframe tbody tr th {\n",
       "        vertical-align: top;\n",
       "    }\n",
       "\n",
       "    .dataframe thead th {\n",
       "        text-align: right;\n",
       "    }\n",
       "</style>\n",
       "<table border=\"1\" class=\"dataframe\">\n",
       "  <thead>\n",
       "    <tr style=\"text-align: right;\">\n",
       "      <th></th>\n",
       "      <th>type</th>\n",
       "      <th>total</th>\n",
       "    </tr>\n",
       "  </thead>\n",
       "  <tbody>\n",
       "    <tr>\n",
       "      <th>0</th>\n",
       "      <td>1종대형</td>\n",
       "      <td>768</td>\n",
       "    </tr>\n",
       "    <tr>\n",
       "      <th>1</th>\n",
       "      <td>1종보통</td>\n",
       "      <td>141252</td>\n",
       "    </tr>\n",
       "    <tr>\n",
       "      <th>2</th>\n",
       "      <td>1종소형</td>\n",
       "      <td>0</td>\n",
       "    </tr>\n",
       "    <tr>\n",
       "      <th>3</th>\n",
       "      <td>대형견인</td>\n",
       "      <td>0</td>\n",
       "    </tr>\n",
       "    <tr>\n",
       "      <th>4</th>\n",
       "      <td>소형견인</td>\n",
       "      <td>0</td>\n",
       "    </tr>\n",
       "    <tr>\n",
       "      <th>5</th>\n",
       "      <td>구난</td>\n",
       "      <td>3</td>\n",
       "    </tr>\n",
       "    <tr>\n",
       "      <th>6</th>\n",
       "      <td>2종보통</td>\n",
       "      <td>125873</td>\n",
       "    </tr>\n",
       "    <tr>\n",
       "      <th>7</th>\n",
       "      <td>2종소형</td>\n",
       "      <td>342</td>\n",
       "    </tr>\n",
       "    <tr>\n",
       "      <th>8</th>\n",
       "      <td>원자</td>\n",
       "      <td>11395</td>\n",
       "    </tr>\n",
       "  </tbody>\n",
       "</table>\n",
       "</div>"
      ],
      "text/plain": [
       "   type   total\n",
       "0  1종대형     768\n",
       "1  1종보통  141252\n",
       "2  1종소형       0\n",
       "3  대형견인       0\n",
       "4  소형견인       0\n",
       "5    구난       3\n",
       "6  2종보통  125873\n",
       "7  2종소형     342\n",
       "8    원자   11395"
      ]
     },
     "execution_count": 11,
     "metadata": {},
     "output_type": "execute_result"
    }
   ],
   "source": [
    "df"
   ]
  },
  {
   "cell_type": "code",
   "execution_count": null,
   "id": "7e231610-9ae6-48b9-8069-967ad2f90a5c",
   "metadata": {},
   "outputs": [],
   "source": []
  }
 ],
 "metadata": {
  "kernelspec": {
   "display_name": "Python 3 (ipykernel)",
   "language": "python",
   "name": "python3"
  },
  "language_info": {
   "codemirror_mode": {
    "name": "ipython",
    "version": 3
   },
   "file_extension": ".py",
   "mimetype": "text/x-python",
   "name": "python",
   "nbconvert_exporter": "python",
   "pygments_lexer": "ipython3",
   "version": "3.12.3"
  }
 },
 "nbformat": 4,
 "nbformat_minor": 5
}
