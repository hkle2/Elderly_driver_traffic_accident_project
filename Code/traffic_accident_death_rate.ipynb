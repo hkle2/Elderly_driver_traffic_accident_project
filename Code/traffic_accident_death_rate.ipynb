{
 "cells": [
  {
   "cell_type": "markdown",
   "id": "5867f91e-1f3f-4aca-9e44-7ecf1ec1766c",
   "metadata": {},
   "source": [
    "# 연령대별 교통사고 사망률 비교"
   ]
  },
  {
   "cell_type": "code",
   "execution_count": 2,
   "id": "06cdfa96-9dc0-424c-8a1b-80d72a80e924",
   "metadata": {},
   "outputs": [],
   "source": [
    "from matplotlib import pyplot as plt\n",
    "from google.oauth2 import service_account\n",
    "from google.cloud import bigquery"
   ]
  },
  {
   "cell_type": "code",
   "execution_count": 3,
   "id": "315878a6-f01f-459f-8b96-6dcdf4e2517c",
   "metadata": {},
   "outputs": [],
   "source": [
    "credentials = service_account.Credentials.from_service_account_file(\"./bigquery_key.json\")\n",
    "client = bigquery.Client(\n",
    "    credentials=credentials,\n",
    "    project=credentials.project_id\n",
    ")"
   ]
  },
  {
   "cell_type": "code",
   "execution_count": 4,
   "id": "505fc520-6e74-4dd5-a8e2-cf937f00b231",
   "metadata": {},
   "outputs": [],
   "source": [
    "plt.rc(\"font\", family=\"Malgun Gothic\")"
   ]
  },
  {
   "cell_type": "code",
   "execution_count": 5,
   "id": "920e19ad-13c6-4346-86e7-962e3e7ba36c",
   "metadata": {},
   "outputs": [],
   "source": [
    "dead_rate_sql = \"\"\"\n",
    "    SELECT\n",
    "        age_group,\n",
    "        (SUM(dead_2018) + SUM(dead_2019) + SUM(dead_2020) + SUM(dead_2021) + SUM(dead_2022)) / (SUM(total_2019) + SUM(total_2019) + SUM(total_2020) + SUM(total_2021) + SUM(total_2022)) * 100 AS dead_rate\n",
    "    FROM\n",
    "        `calcium-channel-428804-c3.traffic_accident.traffic_accident_5`\n",
    "    GROUP BY\n",
    "        age_group;\n",
    "\"\"\""
   ]
  },
  {
   "cell_type": "code",
   "execution_count": 6,
   "id": "4dd86494-49c2-465e-932c-e7d4b6ee8585",
   "metadata": {},
   "outputs": [
    {
     "name": "stderr",
     "output_type": "stream",
     "text": [
      "C:\\Users\\minni\\AppData\\Local\\Programs\\Python\\Python312\\Lib\\site-packages\\google\\cloud\\bigquery\\table.py:1727: UserWarning: BigQuery Storage module not found, fetch data with the REST endpoint instead.\n",
      "  warnings.warn(\n"
     ]
    }
   ],
   "source": [
    "dead_rate_df = client.query(dead_rate_sql).to_dataframe()\n",
    "dead_rate_df = dead_rate_df.set_index(\"age_group\")"
   ]
  },
  {
   "cell_type": "code",
   "execution_count": 7,
   "id": "f78dccbb-7ffc-43c9-8f10-fb91d086804a",
   "metadata": {},
   "outputs": [
    {
     "data": {
      "text/html": [
       "<div>\n",
       "<style scoped>\n",
       "    .dataframe tbody tr th:only-of-type {\n",
       "        vertical-align: middle;\n",
       "    }\n",
       "\n",
       "    .dataframe tbody tr th {\n",
       "        vertical-align: top;\n",
       "    }\n",
       "\n",
       "    .dataframe thead th {\n",
       "        text-align: right;\n",
       "    }\n",
       "</style>\n",
       "<table border=\"1\" class=\"dataframe\">\n",
       "  <thead>\n",
       "    <tr style=\"text-align: right;\">\n",
       "      <th></th>\n",
       "      <th>dead_rate</th>\n",
       "    </tr>\n",
       "    <tr>\n",
       "      <th>age_group</th>\n",
       "      <th></th>\n",
       "    </tr>\n",
       "  </thead>\n",
       "  <tbody>\n",
       "    <tr>\n",
       "      <th>10</th>\n",
       "      <td>1.290359</td>\n",
       "    </tr>\n",
       "    <tr>\n",
       "      <th>20</th>\n",
       "      <td>1.276043</td>\n",
       "    </tr>\n",
       "    <tr>\n",
       "      <th>30</th>\n",
       "      <td>1.241670</td>\n",
       "    </tr>\n",
       "    <tr>\n",
       "      <th>40</th>\n",
       "      <td>1.335415</td>\n",
       "    </tr>\n",
       "    <tr>\n",
       "      <th>50</th>\n",
       "      <td>1.441034</td>\n",
       "    </tr>\n",
       "    <tr>\n",
       "      <th>60</th>\n",
       "      <td>1.559509</td>\n",
       "    </tr>\n",
       "    <tr>\n",
       "      <th>65</th>\n",
       "      <td>2.301835</td>\n",
       "    </tr>\n",
       "  </tbody>\n",
       "</table>\n",
       "</div>"
      ],
      "text/plain": [
       "           dead_rate\n",
       "age_group           \n",
       "10          1.290359\n",
       "20          1.276043\n",
       "30          1.241670\n",
       "40          1.335415\n",
       "50          1.441034\n",
       "60          1.559509\n",
       "65          2.301835"
      ]
     },
     "execution_count": 7,
     "metadata": {},
     "output_type": "execute_result"
    }
   ],
   "source": [
    "dead_rate_df"
   ]
  },
  {
   "cell_type": "code",
   "execution_count": 22,
   "id": "8e62d8a6-746b-41a1-b27b-3b75e580f587",
   "metadata": {},
   "outputs": [
    {
     "data": {
      "image/png": "[encoded data removed]",
      "text/plain": [
       "<Figure size 640x480 with 1 Axes>"
      ]
     },
     "metadata": {},
     "output_type": "display_data"
    }
   ],
   "source": [
    "dead_rate_df[\"dead_rate\"].plot(kind=\"bar\", width=0.7)\n",
    "plt.title(\"Average Death Rate by Age Group\", size=15, pad=15)\n",
    "plt.xlabel(\"Age Group\")\n",
    "plt.ylabel(\"Death Rate(%)\")\n",
    "plt.xticks(rotation=0)\n",
    "plt.legend(loc=\"best\")\n",
    "plt.savefig(\"./result/traffic_accident_dead_rate.png\", bbox_inches=\"tight\")"
   ]
  },
  {
   "cell_type": "code",
   "execution_count": null,
   "id": "92491af7-db41-4613-b4da-ae7c1a3e5452",
   "metadata": {},
   "outputs": [],
   "source": []
  }
 ],
 "metadata": {
  "kernelspec": {
   "display_name": "Python 3 (ipykernel)",
   "language": "python",
   "name": "python3"
  },
  "language_info": {
   "codemirror_mode": {
    "name": "ipython",
    "version": 3
   },
   "file_extension": ".py",
   "mimetype": "text/x-python",
   "name": "python",
   "nbconvert_exporter": "python",
   "pygments_lexer": "ipython3",
   "version": "3.12.3"
  }
 },
 "nbformat": 4,
 "nbformat_minor": 5
}
