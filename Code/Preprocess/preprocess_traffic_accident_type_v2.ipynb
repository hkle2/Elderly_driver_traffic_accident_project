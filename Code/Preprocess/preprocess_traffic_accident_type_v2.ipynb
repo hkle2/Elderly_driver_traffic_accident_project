{
 "cells": [
  {
   "cell_type": "code",
   "execution_count": 1,
   "id": "41f4064d-0bff-4cce-bd1b-1ed59706fe7d",
   "metadata": {},
   "outputs": [],
   "source": [
    "import pandas as pd\n",
    "import numpy as np\n",
    "import csv"
   ]
  },
  {
   "cell_type": "code",
   "execution_count": 2,
   "id": "d5208329-c059-40ef-91c2-546517e699be",
   "metadata": {},
   "outputs": [],
   "source": [
    "df_traffic_safe_5 = pd.read_excel(\"traffic_accident_type.xls\", engine=\"xlrd\")"
   ]
  },
  {
   "cell_type": "code",
   "execution_count": 3,
   "id": "e13b962e-8bd0-4b2f-9bce-00055e8232b5",
   "metadata": {},
   "outputs": [],
   "source": [
    "df_traffic_safe_5 = df_traffic_safe_5.iloc[:-2]\n",
    "df_traffic_safe_5 = df_traffic_safe_5.replace(\"-\", np.nan)\n",
    "df_traffic_safe_5 = df_traffic_safe_5.fillna(0)"
   ]
  },
  {
   "cell_type": "code",
   "execution_count": 4,
   "id": "2f8b8718-021e-4a57-8702-8ab0f16c13c6",
   "metadata": {},
   "outputs": [],
   "source": [
    "df_traffic_safe_5 = df_traffic_safe_5[[\"기본계획 연령별1\", \"2019.12\", \"2020.12\", \"2021.11\", \"2022.11\", \"2023.11\"]]\n",
    "df_traffic_safe_5 = df_traffic_safe_5.rename(columns={\"기본계획 연령별1\": \"age_group\", \"2019.12\": \"safe_2019\", \"2020.12\": \"safe_2020\", \"2021.11\": \"safe_2021\", \"2022.11\": \"safe_2022\", \"2023.11\": \"safe_2023\"})\n",
    "df_traffic_safe_5 = df_traffic_safe_5[2:]"
   ]
  },
  {
   "cell_type": "code",
   "execution_count": 5,
   "id": "9f5e979e-4aa8-4ddd-ae5a-d88baa0fba4b",
   "metadata": {},
   "outputs": [],
   "source": [
    "df_traffic_safe_5[\"age_group\"] = df_traffic_safe_5[\"age_group\"].replace({\"20세이하\": \"10\", \"21~30세\": \"20\", \"31~40세\": \"30\", \"41~50세\": \"40\", \"51~60세\": \"50\", \"61~64세\": \"60\", \"65세이상\": \"65\"})"
   ]
  },
  {
   "cell_type": "code",
   "execution_count": 6,
   "id": "14d8b89c-3c2d-4d8d-8d5f-e2d90ab22b71",
   "metadata": {},
   "outputs": [],
   "source": [
    "df_traffic_safe_5 = df_traffic_safe_5.set_index(\"age_group\")"
   ]
  },
  {
   "cell_type": "code",
   "execution_count": 7,
   "id": "5a0e51b4-0efb-4d3f-88af-64a066f423a2",
   "metadata": {},
   "outputs": [
    {
     "data": {
      "text/html": [
       "<div>\n",
       "<style scoped>\n",
       "    .dataframe tbody tr th:only-of-type {\n",
       "        vertical-align: middle;\n",
       "    }\n",
       "\n",
       "    .dataframe tbody tr th {\n",
       "        vertical-align: top;\n",
       "    }\n",
       "\n",
       "    .dataframe thead th {\n",
       "        text-align: right;\n",
       "    }\n",
       "</style>\n",
       "<table border=\"1\" class=\"dataframe\">\n",
       "  <thead>\n",
       "    <tr style=\"text-align: right;\">\n",
       "      <th></th>\n",
       "      <th>safe_2019</th>\n",
       "      <th>safe_2020</th>\n",
       "      <th>safe_2021</th>\n",
       "      <th>safe_2022</th>\n",
       "      <th>safe_2023</th>\n",
       "    </tr>\n",
       "    <tr>\n",
       "      <th>age_group</th>\n",
       "      <th></th>\n",
       "      <th></th>\n",
       "      <th></th>\n",
       "      <th></th>\n",
       "      <th></th>\n",
       "    </tr>\n",
       "  </thead>\n",
       "  <tbody>\n",
       "    <tr>\n",
       "      <th>10</th>\n",
       "      <td>3999</td>\n",
       "      <td>4027</td>\n",
       "      <td>3848</td>\n",
       "      <td>3720</td>\n",
       "      <td>3232</td>\n",
       "    </tr>\n",
       "    <tr>\n",
       "      <th>20</th>\n",
       "      <td>17070</td>\n",
       "      <td>16483</td>\n",
       "      <td>15930</td>\n",
       "      <td>15094</td>\n",
       "      <td>14051</td>\n",
       "    </tr>\n",
       "    <tr>\n",
       "      <th>30</th>\n",
       "      <td>19704</td>\n",
       "      <td>17923</td>\n",
       "      <td>16938</td>\n",
       "      <td>16524</td>\n",
       "      <td>15732</td>\n",
       "    </tr>\n",
       "    <tr>\n",
       "      <th>40</th>\n",
       "      <td>24226</td>\n",
       "      <td>21327</td>\n",
       "      <td>20405</td>\n",
       "      <td>19364</td>\n",
       "      <td>18762</td>\n",
       "    </tr>\n",
       "    <tr>\n",
       "      <th>50</th>\n",
       "      <td>30000</td>\n",
       "      <td>27664</td>\n",
       "      <td>25686</td>\n",
       "      <td>25123</td>\n",
       "      <td>24582</td>\n",
       "    </tr>\n",
       "    <tr>\n",
       "      <th>60</th>\n",
       "      <td>10473</td>\n",
       "      <td>9722</td>\n",
       "      <td>10027</td>\n",
       "      <td>10610</td>\n",
       "      <td>11050</td>\n",
       "    </tr>\n",
       "    <tr>\n",
       "      <th>65</th>\n",
       "      <td>17743</td>\n",
       "      <td>16825</td>\n",
       "      <td>16979</td>\n",
       "      <td>19002</td>\n",
       "      <td>21653</td>\n",
       "    </tr>\n",
       "  </tbody>\n",
       "</table>\n",
       "</div>"
      ],
      "text/plain": [
       "          safe_2019 safe_2020 safe_2021 safe_2022 safe_2023\n",
       "age_group                                                  \n",
       "10             3999      4027      3848      3720      3232\n",
       "20            17070     16483     15930     15094     14051\n",
       "30            19704     17923     16938     16524     15732\n",
       "40            24226     21327     20405     19364     18762\n",
       "50            30000     27664     25686     25123     24582\n",
       "60            10473      9722     10027     10610     11050\n",
       "65            17743     16825     16979     19002     21653"
      ]
     },
     "execution_count": 7,
     "metadata": {},
     "output_type": "execute_result"
    }
   ],
   "source": [
    "df_traffic_safe_5"
   ]
  },
  {
   "cell_type": "code",
   "execution_count": 8,
   "id": "1dff6dc0-3dca-4c65-957e-f6283112951a",
   "metadata": {},
   "outputs": [],
   "source": [
    "df_traffic_safe_5.to_csv(\"pre_traffic_accident_safe.csv\", encoding=\"utf-8\")"
   ]
  },
  {
   "cell_type": "code",
   "execution_count": null,
   "id": "f07891b0-4a25-430d-8031-4ce5f1a0e6fc",
   "metadata": {},
   "outputs": [],
   "source": []
  }
 ],
 "metadata": {
  "kernelspec": {
   "display_name": "Python 3 (ipykernel)",
   "language": "python",
   "name": "python3"
  },
  "language_info": {
   "codemirror_mode": {
    "name": "ipython",
    "version": 3
   },
   "file_extension": ".py",
   "mimetype": "text/x-python",
   "name": "python",
   "nbconvert_exporter": "python",
   "pygments_lexer": "ipython3",
   "version": "3.12.3"
  }
 },
 "nbformat": 4,
 "nbformat_minor": 5
}
