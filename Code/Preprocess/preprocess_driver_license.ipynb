{
 "cells": [
  {
   "cell_type": "code",
   "execution_count": 1,
   "id": "e2494ddb-3240-4ca0-8cf5-53cf66e7e9f8",
   "metadata": {},
   "outputs": [],
   "source": [
    "import pandas as pd\n",
    "import csv"
   ]
  },
  {
   "cell_type": "code",
   "execution_count": 2,
   "id": "3e081dfa-ae3d-4e0f-b126-a2b9f0b3b654",
   "metadata": {},
   "outputs": [],
   "source": [
    "df_license_4 = pd.read_csv(\"driver_license.csv\", encoding=\"utf-8\")"
   ]
  },
  {
   "cell_type": "code",
   "execution_count": 3,
   "id": "93b2ed6d-5a83-4159-bf10-6862266fc4fc",
   "metadata": {},
   "outputs": [],
   "source": [
    "df_license_4 = df_license_4.iloc[3:]\n",
    "year = [\"2019\", \"2020\", \"2021\", \"2022\"]\n",
    "col = [\"연령대별(1)\"] + year\n",
    "df_license_4 = df_license_4[col]"
   ]
  },
  {
   "cell_type": "code",
   "execution_count": 4,
   "id": "5080b164-7414-4fef-a794-bc82c5d60be4",
   "metadata": {},
   "outputs": [],
   "source": [
    "df_license_4.rename(columns={\"연령대별(1)\": \"age_group\", \"2019\": \"total_2019\", \"2020\": \"total_2020\", \"2021\": \"total_2021\", \"2022\": \"total_2022\"}, inplace=True)\n",
    "df_license_4 = df_license_4.set_index(\"age_group\")"
   ]
  },
  {
   "cell_type": "code",
   "execution_count": 5,
   "id": "994a159c-28ce-4e85-9169-244f5edf14cc",
   "metadata": {},
   "outputs": [],
   "source": [
    "def change_index(index):\n",
    "    if int(index[0]) == 1:\n",
    "        return 10\n",
    "    elif int(index[0]) == 2:\n",
    "        return 20\n",
    "    elif int(index[0]) == 3:\n",
    "        return 30\n",
    "    elif int(index[0]) == 4:\n",
    "        return 40\n",
    "    elif int(index[0]) == 5:\n",
    "        return 50\n",
    "    elif 60 <= int(index[:2]) <= 64:\n",
    "        return 60\n",
    "    else:\n",
    "        return 65"
   ]
  },
  {
   "cell_type": "code",
   "execution_count": 6,
   "id": "ab78a795-b3d8-4b6c-b24c-59794e7ffedf",
   "metadata": {},
   "outputs": [],
   "source": [
    "df_license_4.index = df_license_4.index.map(change_index)"
   ]
  },
  {
   "cell_type": "code",
   "execution_count": 8,
   "id": "62aaa129-7386-4623-8cbd-86879831a1f9",
   "metadata": {},
   "outputs": [
    {
     "data": {
      "text/html": [
       "<div>\n",
       "<style scoped>\n",
       "    .dataframe tbody tr th:only-of-type {\n",
       "        vertical-align: middle;\n",
       "    }\n",
       "\n",
       "    .dataframe tbody tr th {\n",
       "        vertical-align: top;\n",
       "    }\n",
       "\n",
       "    .dataframe thead th {\n",
       "        text-align: right;\n",
       "    }\n",
       "</style>\n",
       "<table border=\"1\" class=\"dataframe\">\n",
       "  <thead>\n",
       "    <tr style=\"text-align: right;\">\n",
       "      <th></th>\n",
       "      <th>total_2019</th>\n",
       "      <th>total_2020</th>\n",
       "      <th>total_2021</th>\n",
       "      <th>total_2022</th>\n",
       "    </tr>\n",
       "    <tr>\n",
       "      <th>age_group</th>\n",
       "      <th></th>\n",
       "      <th></th>\n",
       "      <th></th>\n",
       "      <th></th>\n",
       "    </tr>\n",
       "  </thead>\n",
       "  <tbody>\n",
       "    <tr>\n",
       "      <th>10</th>\n",
       "      <td>1807</td>\n",
       "      <td>2197</td>\n",
       "      <td>2068</td>\n",
       "      <td>1887</td>\n",
       "    </tr>\n",
       "    <tr>\n",
       "      <th>10</th>\n",
       "      <td>4078</td>\n",
       "      <td>4854</td>\n",
       "      <td>4949</td>\n",
       "      <td>4299</td>\n",
       "    </tr>\n",
       "    <tr>\n",
       "      <th>10</th>\n",
       "      <td>62697</td>\n",
       "      <td>53258</td>\n",
       "      <td>64179</td>\n",
       "      <td>57189</td>\n",
       "    </tr>\n",
       "    <tr>\n",
       "      <th>10</th>\n",
       "      <td>222602</td>\n",
       "      <td>224932</td>\n",
       "      <td>208437</td>\n",
       "      <td>208793</td>\n",
       "    </tr>\n",
       "    <tr>\n",
       "      <th>20</th>\n",
       "      <td>274358</td>\n",
       "      <td>306446</td>\n",
       "      <td>296718</td>\n",
       "      <td>264166</td>\n",
       "    </tr>\n",
       "    <tr>\n",
       "      <th>...</th>\n",
       "      <td>...</td>\n",
       "      <td>...</td>\n",
       "      <td>...</td>\n",
       "      <td>...</td>\n",
       "    </tr>\n",
       "    <tr>\n",
       "      <th>65</th>\n",
       "      <td>542</td>\n",
       "      <td>567</td>\n",
       "      <td>649</td>\n",
       "      <td>827</td>\n",
       "    </tr>\n",
       "    <tr>\n",
       "      <th>65</th>\n",
       "      <td>512</td>\n",
       "      <td>447</td>\n",
       "      <td>443</td>\n",
       "      <td>500</td>\n",
       "    </tr>\n",
       "    <tr>\n",
       "      <th>65</th>\n",
       "      <td>348</td>\n",
       "      <td>418</td>\n",
       "      <td>355</td>\n",
       "      <td>337</td>\n",
       "    </tr>\n",
       "    <tr>\n",
       "      <th>65</th>\n",
       "      <td>193</td>\n",
       "      <td>301</td>\n",
       "      <td>350</td>\n",
       "      <td>299</td>\n",
       "    </tr>\n",
       "    <tr>\n",
       "      <th>65</th>\n",
       "      <td>524</td>\n",
       "      <td>649</td>\n",
       "      <td>843</td>\n",
       "      <td>1054</td>\n",
       "    </tr>\n",
       "  </tbody>\n",
       "</table>\n",
       "<p>84 rows × 4 columns</p>\n",
       "</div>"
      ],
      "text/plain": [
       "          total_2019 total_2020 total_2021 total_2022\n",
       "age_group                                            \n",
       "10              1807       2197       2068       1887\n",
       "10              4078       4854       4949       4299\n",
       "10             62697      53258      64179      57189\n",
       "10            222602     224932     208437     208793\n",
       "20            274358     306446     296718     264166\n",
       "...              ...        ...        ...        ...\n",
       "65               542        567        649        827\n",
       "65               512        447        443        500\n",
       "65               348        418        355        337\n",
       "65               193        301        350        299\n",
       "65               524        649        843       1054\n",
       "\n",
       "[84 rows x 4 columns]"
      ]
     },
     "execution_count": 8,
     "metadata": {},
     "output_type": "execute_result"
    }
   ],
   "source": [
    "df_license_4"
   ]
  },
  {
   "cell_type": "code",
   "execution_count": 7,
   "id": "0287b2ba-f600-44fd-a24f-668cecf538ab",
   "metadata": {},
   "outputs": [],
   "source": [
    "df_license_4.to_csv(\"pre_driver_license.csv\", encoding=\"utf-8\")"
   ]
  },
  {
   "cell_type": "code",
   "execution_count": null,
   "id": "68f02545-676f-43d9-b0b3-7fa1a0c46b5b",
   "metadata": {},
   "outputs": [],
   "source": []
  }
 ],
 "metadata": {
  "kernelspec": {
   "display_name": "Python 3 (ipykernel)",
   "language": "python",
   "name": "python3"
  },
  "language_info": {
   "codemirror_mode": {
    "name": "ipython",
    "version": 3
   },
   "file_extension": ".py",
   "mimetype": "text/x-python",
   "name": "python",
   "nbconvert_exporter": "python",
   "pygments_lexer": "ipython3",
   "version": "3.12.3"
  }
 },
 "nbformat": 4,
 "nbformat_minor": 5
}
