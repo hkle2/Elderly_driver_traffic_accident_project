{
 "cells": [
  {
   "cell_type": "code",
   "execution_count": 1,
   "id": "41f4064d-0bff-4cce-bd1b-1ed59706fe7d",
   "metadata": {},
   "outputs": [],
   "source": [
    "import pandas as pd\n",
    "from matplotlib import pyplot as plt\n",
    "import csv"
   ]
  },
  {
   "cell_type": "code",
   "execution_count": 2,
   "id": "e3c24aa2-7e53-4baa-b199-04307fc6d80c",
   "metadata": {},
   "outputs": [],
   "source": [
    "df_licens_10_19 = pd.read_csv(\"./data/driver_license_19.csv\", encoding=\"cp949\")"
   ]
  },
  {
   "cell_type": "code",
   "execution_count": 3,
   "id": "2a4efb6e-3d09-48a6-802c-29e328cfb130",
   "metadata": {},
   "outputs": [],
   "source": [
    "df_licens_10_19 = df_licens_10_19.head(4)\n",
    "df_licens_10_19.rename(columns={\"구분\": \"age_group\"}, inplace=True)\n",
    "df_licens_10_19 = df_licens_10_19.set_index(\"age_group\")"
   ]
  },
  {
   "cell_type": "code",
   "execution_count": 4,
   "id": "3852b716-0d95-461e-9c34-d1dcda37a43e",
   "metadata": {},
   "outputs": [
    {
     "data": {
      "text/html": [
       "<div>\n",
       "<style scoped>\n",
       "    .dataframe tbody tr th:only-of-type {\n",
       "        vertical-align: middle;\n",
       "    }\n",
       "\n",
       "    .dataframe tbody tr th {\n",
       "        vertical-align: top;\n",
       "    }\n",
       "\n",
       "    .dataframe thead th {\n",
       "        text-align: right;\n",
       "    }\n",
       "</style>\n",
       "<table border=\"1\" class=\"dataframe\">\n",
       "  <thead>\n",
       "    <tr style=\"text-align: right;\">\n",
       "      <th></th>\n",
       "      <th>1종대형</th>\n",
       "      <th>1종보통</th>\n",
       "      <th>1종소형</th>\n",
       "      <th>대형견인</th>\n",
       "      <th>소형견인</th>\n",
       "      <th>구난</th>\n",
       "      <th>2종보통</th>\n",
       "      <th>2종소형</th>\n",
       "      <th>원자</th>\n",
       "    </tr>\n",
       "    <tr>\n",
       "      <th>age_group</th>\n",
       "      <th></th>\n",
       "      <th></th>\n",
       "      <th></th>\n",
       "      <th></th>\n",
       "      <th></th>\n",
       "      <th></th>\n",
       "      <th></th>\n",
       "      <th></th>\n",
       "      <th></th>\n",
       "    </tr>\n",
       "  </thead>\n",
       "  <tbody>\n",
       "    <tr>\n",
       "      <th>16</th>\n",
       "      <td>0</td>\n",
       "      <td>0</td>\n",
       "      <td>0</td>\n",
       "      <td>0</td>\n",
       "      <td>0</td>\n",
       "      <td>0</td>\n",
       "      <td>0</td>\n",
       "      <td>0</td>\n",
       "      <td>2830</td>\n",
       "    </tr>\n",
       "    <tr>\n",
       "      <th>17</th>\n",
       "      <td>0</td>\n",
       "      <td>0</td>\n",
       "      <td>0</td>\n",
       "      <td>0</td>\n",
       "      <td>0</td>\n",
       "      <td>0</td>\n",
       "      <td>0</td>\n",
       "      <td>0</td>\n",
       "      <td>7165</td>\n",
       "    </tr>\n",
       "    <tr>\n",
       "      <th>18</th>\n",
       "      <td>0</td>\n",
       "      <td>56539</td>\n",
       "      <td>0</td>\n",
       "      <td>0</td>\n",
       "      <td>0</td>\n",
       "      <td>0</td>\n",
       "      <td>40027</td>\n",
       "      <td>118</td>\n",
       "      <td>5412</td>\n",
       "    </tr>\n",
       "    <tr>\n",
       "      <th>19</th>\n",
       "      <td>1066</td>\n",
       "      <td>117088</td>\n",
       "      <td>0</td>\n",
       "      <td>0</td>\n",
       "      <td>0</td>\n",
       "      <td>2</td>\n",
       "      <td>100029</td>\n",
       "      <td>111</td>\n",
       "      <td>3120</td>\n",
       "    </tr>\n",
       "  </tbody>\n",
       "</table>\n",
       "</div>"
      ],
      "text/plain": [
       "           1종대형    1종보통  1종소형  대형견인  소형견인  구난    2종보통  2종소형    원자\n",
       "age_group                                                        \n",
       "16            0       0     0     0     0   0       0     0  2830\n",
       "17            0       0     0     0     0   0       0     0  7165\n",
       "18            0   56539     0     0     0   0   40027   118  5412\n",
       "19         1066  117088     0     0     0   2  100029   111  3120"
      ]
     },
     "execution_count": 4,
     "metadata": {},
     "output_type": "execute_result"
    }
   ],
   "source": [
    "df_licens_10_19"
   ]
  },
  {
   "cell_type": "code",
   "execution_count": 5,
   "id": "e4f49525-c904-4a23-98f3-5f38bb2bd488",
   "metadata": {},
   "outputs": [],
   "source": [
    "df_licens_10_19.loc[\"total\"] = df_licens_10_19.sum(axis=0)\n",
    "df_licens_10_19 = df_licens_10_19.tail(1)\n",
    "df_licens_10_19 = df_licens_10_19.transpose()"
   ]
  },
  {
   "cell_type": "code",
   "execution_count": 6,
   "id": "8d11dd1d-51ca-4549-9e9d-e6f7674ce26e",
   "metadata": {},
   "outputs": [
    {
     "data": {
      "text/html": [
       "<div>\n",
       "<style scoped>\n",
       "    .dataframe tbody tr th:only-of-type {\n",
       "        vertical-align: middle;\n",
       "    }\n",
       "\n",
       "    .dataframe tbody tr th {\n",
       "        vertical-align: top;\n",
       "    }\n",
       "\n",
       "    .dataframe thead th {\n",
       "        text-align: right;\n",
       "    }\n",
       "</style>\n",
       "<table border=\"1\" class=\"dataframe\">\n",
       "  <thead>\n",
       "    <tr style=\"text-align: right;\">\n",
       "      <th>age_group</th>\n",
       "      <th>total</th>\n",
       "    </tr>\n",
       "  </thead>\n",
       "  <tbody>\n",
       "    <tr>\n",
       "      <th>1종대형</th>\n",
       "      <td>1066</td>\n",
       "    </tr>\n",
       "    <tr>\n",
       "      <th>1종보통</th>\n",
       "      <td>173627</td>\n",
       "    </tr>\n",
       "    <tr>\n",
       "      <th>1종소형</th>\n",
       "      <td>0</td>\n",
       "    </tr>\n",
       "    <tr>\n",
       "      <th>대형견인</th>\n",
       "      <td>0</td>\n",
       "    </tr>\n",
       "    <tr>\n",
       "      <th>소형견인</th>\n",
       "      <td>0</td>\n",
       "    </tr>\n",
       "    <tr>\n",
       "      <th>구난</th>\n",
       "      <td>2</td>\n",
       "    </tr>\n",
       "    <tr>\n",
       "      <th>2종보통</th>\n",
       "      <td>140056</td>\n",
       "    </tr>\n",
       "    <tr>\n",
       "      <th>2종소형</th>\n",
       "      <td>229</td>\n",
       "    </tr>\n",
       "    <tr>\n",
       "      <th>원자</th>\n",
       "      <td>18527</td>\n",
       "    </tr>\n",
       "  </tbody>\n",
       "</table>\n",
       "</div>"
      ],
      "text/plain": [
       "age_group   total\n",
       "1종대형         1066\n",
       "1종보통       173627\n",
       "1종소형            0\n",
       "대형견인            0\n",
       "소형견인            0\n",
       "구난              2\n",
       "2종보통       140056\n",
       "2종소형          229\n",
       "원자          18527"
      ]
     },
     "execution_count": 6,
     "metadata": {},
     "output_type": "execute_result"
    }
   ],
   "source": [
    "df_licens_10_19"
   ]
  },
  {
   "cell_type": "code",
   "execution_count": 7,
   "id": "0e683add-adb7-4fb1-88cb-793755708d91",
   "metadata": {},
   "outputs": [],
   "source": [
    "df_licens_10_19.index.name = \"type\""
   ]
  },
  {
   "cell_type": "code",
   "execution_count": 8,
   "id": "1dff6dc0-3dca-4c65-957e-f6283112951a",
   "metadata": {},
   "outputs": [],
   "source": [
    "df_licens_10_19.to_csv(\"./data/pre_driver_license_under20_type_19.csv\", encoding=\"utf-8\")"
   ]
  },
  {
   "cell_type": "code",
   "execution_count": 9,
   "id": "9bc2555c-adb3-4ef2-9b29-e1649f98ddb7",
   "metadata": {},
   "outputs": [],
   "source": [
    "df = pd.read_csv(\"./data/pre_driver_license_under20_type_19.csv\", encoding=\"utf-8\")"
   ]
  },
  {
   "cell_type": "code",
   "execution_count": 10,
   "id": "b5026b88-44fa-479c-8832-7620013df7d6",
   "metadata": {},
   "outputs": [
    {
     "data": {
      "text/html": [
       "<div>\n",
       "<style scoped>\n",
       "    .dataframe tbody tr th:only-of-type {\n",
       "        vertical-align: middle;\n",
       "    }\n",
       "\n",
       "    .dataframe tbody tr th {\n",
       "        vertical-align: top;\n",
       "    }\n",
       "\n",
       "    .dataframe thead th {\n",
       "        text-align: right;\n",
       "    }\n",
       "</style>\n",
       "<table border=\"1\" class=\"dataframe\">\n",
       "  <thead>\n",
       "    <tr style=\"text-align: right;\">\n",
       "      <th></th>\n",
       "      <th>type</th>\n",
       "      <th>total</th>\n",
       "    </tr>\n",
       "  </thead>\n",
       "  <tbody>\n",
       "    <tr>\n",
       "      <th>0</th>\n",
       "      <td>1종대형</td>\n",
       "      <td>1066</td>\n",
       "    </tr>\n",
       "    <tr>\n",
       "      <th>1</th>\n",
       "      <td>1종보통</td>\n",
       "      <td>173627</td>\n",
       "    </tr>\n",
       "    <tr>\n",
       "      <th>2</th>\n",
       "      <td>1종소형</td>\n",
       "      <td>0</td>\n",
       "    </tr>\n",
       "    <tr>\n",
       "      <th>3</th>\n",
       "      <td>대형견인</td>\n",
       "      <td>0</td>\n",
       "    </tr>\n",
       "    <tr>\n",
       "      <th>4</th>\n",
       "      <td>소형견인</td>\n",
       "      <td>0</td>\n",
       "    </tr>\n",
       "    <tr>\n",
       "      <th>5</th>\n",
       "      <td>구난</td>\n",
       "      <td>2</td>\n",
       "    </tr>\n",
       "    <tr>\n",
       "      <th>6</th>\n",
       "      <td>2종보통</td>\n",
       "      <td>140056</td>\n",
       "    </tr>\n",
       "    <tr>\n",
       "      <th>7</th>\n",
       "      <td>2종소형</td>\n",
       "      <td>229</td>\n",
       "    </tr>\n",
       "    <tr>\n",
       "      <th>8</th>\n",
       "      <td>원자</td>\n",
       "      <td>18527</td>\n",
       "    </tr>\n",
       "  </tbody>\n",
       "</table>\n",
       "</div>"
      ],
      "text/plain": [
       "   type   total\n",
       "0  1종대형    1066\n",
       "1  1종보통  173627\n",
       "2  1종소형       0\n",
       "3  대형견인       0\n",
       "4  소형견인       0\n",
       "5    구난       2\n",
       "6  2종보통  140056\n",
       "7  2종소형     229\n",
       "8    원자   18527"
      ]
     },
     "execution_count": 10,
     "metadata": {},
     "output_type": "execute_result"
    }
   ],
   "source": [
    "df"
   ]
  },
  {
   "cell_type": "code",
   "execution_count": null,
   "id": "33d7ffba-5a66-43ac-ac14-7619a841add4",
   "metadata": {},
   "outputs": [],
   "source": []
  }
 ],
 "metadata": {
  "kernelspec": {
   "display_name": "Python 3 (ipykernel)",
   "language": "python",
   "name": "python3"
  },
  "language_info": {
   "codemirror_mode": {
    "name": "ipython",
    "version": 3
   },
   "file_extension": ".py",
   "mimetype": "text/x-python",
   "name": "python",
   "nbconvert_exporter": "python",
   "pygments_lexer": "ipython3",
   "version": "3.12.3"
  }
 },
 "nbformat": 4,
 "nbformat_minor": 5
}
