{
 "cells": [
  {
   "cell_type": "code",
   "execution_count": 28,
   "id": "06cdfa96-9dc0-424c-8a1b-80d72a80e924",
   "metadata": {},
   "outputs": [],
   "source": [
    "from matplotlib import pyplot as plt\n",
    "from google.oauth2 import service_account\n",
    "from google.cloud import bigquery"
   ]
  },
  {
   "cell_type": "code",
   "execution_count": 29,
   "id": "315878a6-f01f-459f-8b96-6dcdf4e2517c",
   "metadata": {},
   "outputs": [],
   "source": [
    "credentials = service_account.Credentials.from_service_account_file(\"./bigquery_key.json\")\n",
    "client = bigquery.Client(\n",
    "    credentials=credentials,\n",
    "    project=credentials.project_id\n",
    ")"
   ]
  },
  {
   "cell_type": "code",
   "execution_count": 30,
   "id": "d2e183e2-b0c3-4a9f-9438-cfeb6efc442f",
   "metadata": {},
   "outputs": [],
   "source": [
    "plt.rc(\"font\", family=\"Malgun Gothic\")"
   ]
  },
  {
   "cell_type": "code",
   "execution_count": 31,
   "id": "920e19ad-13c6-4346-86e7-962e3e7ba36c",
   "metadata": {},
   "outputs": [],
   "source": [
    "traffic_accident_rate_sql = \"\"\"\n",
    "    WITH license AS (\n",
    "        SELECT\n",
    "            age_group,\n",
    "            SUM(total_2019) AS total_2019,\n",
    "            SUM(total_2020) AS total_2020,\n",
    "            SUM(total_2021) AS total_2021,\n",
    "            SUM(total_2022) AS total_2022\n",
    "        FROM\n",
    "            `calcium-channel-428804-c3.traffic_accident.driver_license_4`\n",
    "        GROUP BY age_group\n",
    "    ),\n",
    "    accident AS (\n",
    "        SELECT\n",
    "            age_group,\n",
    "            SUM(total_2019) AS total_2019,\n",
    "            SUM(total_2020) AS total_2020,\n",
    "            SUM(total_2021) AS total_2021,\n",
    "            SUM(total_2022) AS total_2022\n",
    "        FROM\n",
    "            `calcium-channel-428804-c3.traffic_accident.traffic_accident_5`\n",
    "        GROUP BY\n",
    "            age_group\n",
    "    )\n",
    "    SELECT\n",
    "        A.age_group,\n",
    "        (B.total_2019 / A.total_2019) * 100 AS traffic_accident_rate_2019,\n",
    "        (B.total_2019 / A.total_2020) * 100 AS traffic_accident_rate_2020,\n",
    "        (B.total_2019 / A.total_2021) * 100 AS traffic_accident_rate_2021,\n",
    "        (B.total_2019 / A.total_2022) * 100 AS traffic_accident_rate_2022\n",
    "    FROM\n",
    "        license AS A INNER JOIN accident AS B\n",
    "    ON\n",
    "        A.age_group = B.age_group;\n",
    "\"\"\""
   ]
  },
  {
   "cell_type": "code",
   "execution_count": 32,
   "id": "4dd86494-49c2-465e-932c-e7d4b6ee8585",
   "metadata": {},
   "outputs": [
    {
     "name": "stderr",
     "output_type": "stream",
     "text": [
      "C:\\Users\\minni\\AppData\\Local\\Programs\\Python\\Python312\\Lib\\site-packages\\google\\cloud\\bigquery\\table.py:1727: UserWarning: BigQuery Storage module not found, fetch data with the REST endpoint instead.\n",
      "  warnings.warn(\n"
     ]
    }
   ],
   "source": [
    "traffic_accident_rate_df = client.query(traffic_accident_rate_sql).to_dataframe()\n",
    "traffic_accident_rate_df = traffic_accident_rate_df.set_index(\"age_group\")"
   ]
  },
  {
   "cell_type": "code",
   "execution_count": 33,
   "id": "f78dccbb-7ffc-43c9-8f10-fb91d086804a",
   "metadata": {},
   "outputs": [
    {
     "data": {
      "text/html": [
       "<div>\n",
       "<style scoped>\n",
       "    .dataframe tbody tr th:only-of-type {\n",
       "        vertical-align: middle;\n",
       "    }\n",
       "\n",
       "    .dataframe tbody tr th {\n",
       "        vertical-align: top;\n",
       "    }\n",
       "\n",
       "    .dataframe thead th {\n",
       "        text-align: right;\n",
       "    }\n",
       "</style>\n",
       "<table border=\"1\" class=\"dataframe\">\n",
       "  <thead>\n",
       "    <tr style=\"text-align: right;\">\n",
       "      <th></th>\n",
       "      <th>traffic_accident_rate_2019</th>\n",
       "      <th>traffic_accident_rate_2020</th>\n",
       "      <th>traffic_accident_rate_2021</th>\n",
       "      <th>traffic_accident_rate_2022</th>\n",
       "    </tr>\n",
       "    <tr>\n",
       "      <th>age_group</th>\n",
       "      <th></th>\n",
       "      <th></th>\n",
       "      <th></th>\n",
       "      <th></th>\n",
       "    </tr>\n",
       "  </thead>\n",
       "  <tbody>\n",
       "    <tr>\n",
       "      <th>10</th>\n",
       "      <td>2.483310</td>\n",
       "      <td>2.535049</td>\n",
       "      <td>2.585889</td>\n",
       "      <td>2.656815</td>\n",
       "    </tr>\n",
       "    <tr>\n",
       "      <th>20</th>\n",
       "      <td>0.633883</td>\n",
       "      <td>0.625837</td>\n",
       "      <td>0.622912</td>\n",
       "      <td>0.635865</td>\n",
       "    </tr>\n",
       "    <tr>\n",
       "      <th>30</th>\n",
       "      <td>0.537873</td>\n",
       "      <td>0.550722</td>\n",
       "      <td>0.559831</td>\n",
       "      <td>0.566470</td>\n",
       "    </tr>\n",
       "    <tr>\n",
       "      <th>40</th>\n",
       "      <td>0.572782</td>\n",
       "      <td>0.574571</td>\n",
       "      <td>0.578311</td>\n",
       "      <td>0.580144</td>\n",
       "    </tr>\n",
       "    <tr>\n",
       "      <th>50</th>\n",
       "      <td>0.767324</td>\n",
       "      <td>0.756406</td>\n",
       "      <td>0.743850</td>\n",
       "      <td>0.734470</td>\n",
       "    </tr>\n",
       "    <tr>\n",
       "      <th>60</th>\n",
       "      <td>0.716339</td>\n",
       "      <td>0.665903</td>\n",
       "      <td>0.620904</td>\n",
       "      <td>0.594479</td>\n",
       "    </tr>\n",
       "    <tr>\n",
       "      <th>65</th>\n",
       "      <td>0.996025</td>\n",
       "      <td>0.902588</td>\n",
       "      <td>0.827553</td>\n",
       "      <td>0.757609</td>\n",
       "    </tr>\n",
       "  </tbody>\n",
       "</table>\n",
       "</div>"
      ],
      "text/plain": [
       "           traffic_accident_rate_2019  traffic_accident_rate_2020  \\\n",
       "age_group                                                           \n",
       "10                           2.483310                    2.535049   \n",
       "20                           0.633883                    0.625837   \n",
       "30                           0.537873                    0.550722   \n",
       "40                           0.572782                    0.574571   \n",
       "50                           0.767324                    0.756406   \n",
       "60                           0.716339                    0.665903   \n",
       "65                           0.996025                    0.902588   \n",
       "\n",
       "           traffic_accident_rate_2021  traffic_accident_rate_2022  \n",
       "age_group                                                          \n",
       "10                           2.585889                    2.656815  \n",
       "20                           0.622912                    0.635865  \n",
       "30                           0.559831                    0.566470  \n",
       "40                           0.578311                    0.580144  \n",
       "50                           0.743850                    0.734470  \n",
       "60                           0.620904                    0.594479  \n",
       "65                           0.827553                    0.757609  "
      ]
     },
     "execution_count": 33,
     "metadata": {},
     "output_type": "execute_result"
    }
   ],
   "source": [
    "traffic_accident_rate_df"
   ]
  },
  {
   "cell_type": "code",
   "execution_count": 34,
   "id": "c857642a-a60d-4e3a-b1a4-154a19da01b5",
   "metadata": {},
   "outputs": [],
   "source": [
    "traffic_accident_rate_df[\"average\"] = traffic_accident_rate_df.mean(axis=1)\n",
    "traffic_accident_rate_df = traffic_accident_rate_df[[\"average\"]]"
   ]
  },
  {
   "cell_type": "code",
   "execution_count": 35,
   "id": "9ee418c2-0350-4110-a9ad-7a7ea5b93459",
   "metadata": {},
   "outputs": [
    {
     "data": {
      "text/html": [
       "<div>\n",
       "<style scoped>\n",
       "    .dataframe tbody tr th:only-of-type {\n",
       "        vertical-align: middle;\n",
       "    }\n",
       "\n",
       "    .dataframe tbody tr th {\n",
       "        vertical-align: top;\n",
       "    }\n",
       "\n",
       "    .dataframe thead th {\n",
       "        text-align: right;\n",
       "    }\n",
       "</style>\n",
       "<table border=\"1\" class=\"dataframe\">\n",
       "  <thead>\n",
       "    <tr style=\"text-align: right;\">\n",
       "      <th></th>\n",
       "      <th>average</th>\n",
       "    </tr>\n",
       "    <tr>\n",
       "      <th>age_group</th>\n",
       "      <th></th>\n",
       "    </tr>\n",
       "  </thead>\n",
       "  <tbody>\n",
       "    <tr>\n",
       "      <th>10</th>\n",
       "      <td>2.565266</td>\n",
       "    </tr>\n",
       "    <tr>\n",
       "      <th>20</th>\n",
       "      <td>0.629624</td>\n",
       "    </tr>\n",
       "    <tr>\n",
       "      <th>30</th>\n",
       "      <td>0.553724</td>\n",
       "    </tr>\n",
       "    <tr>\n",
       "      <th>40</th>\n",
       "      <td>0.576452</td>\n",
       "    </tr>\n",
       "    <tr>\n",
       "      <th>50</th>\n",
       "      <td>0.750512</td>\n",
       "    </tr>\n",
       "    <tr>\n",
       "      <th>60</th>\n",
       "      <td>0.649406</td>\n",
       "    </tr>\n",
       "    <tr>\n",
       "      <th>65</th>\n",
       "      <td>0.870944</td>\n",
       "    </tr>\n",
       "  </tbody>\n",
       "</table>\n",
       "</div>"
      ],
      "text/plain": [
       "            average\n",
       "age_group          \n",
       "10         2.565266\n",
       "20         0.629624\n",
       "30         0.553724\n",
       "40         0.576452\n",
       "50         0.750512\n",
       "60         0.649406\n",
       "65         0.870944"
      ]
     },
     "execution_count": 35,
     "metadata": {},
     "output_type": "execute_result"
    }
   ],
   "source": [
    "traffic_accident_rate_df"
   ]
  },
  {
   "cell_type": "code",
   "execution_count": 38,
   "id": "ab345c4b-fc3b-4e67-a552-4c5a4ee7d944",
   "metadata": {},
   "outputs": [
    {
     "data": {
      "image/png": "[encoded data removed]",
      "text/plain": [
       "<Figure size 640x480 with 1 Axes>"
      ]
     },
     "metadata": {},
     "output_type": "display_data"
    }
   ],
   "source": [
    "traffic_accident_rate_df[\"average\"].plot(kind=\"bar\")\n",
    "plt.title(\"연령대별 4개년도 평균 교통사고 발생률\", size=15, pad=15)\n",
    "plt.xlabel(\"연령대\")\n",
    "plt.ylabel(\"면허 보유 운전자 수 대비 교통사고 발생률(%)\")\n",
    "plt.xticks(rotation=0)\n",
    "plt.legend([\"평균 교통사고 발생률\"], loc=\"best\")\n",
    "plt.savefig(\"./result/traffic_accident_rate_v3.png\", bbox_inches='tight')"
   ]
  },
  {
   "cell_type": "code",
   "execution_count": 36,
   "id": "249a2c4f-0548-46ca-bc2c-76cd2d2b08fa",
   "metadata": {},
   "outputs": [
    {
     "data": {
      "image/png": "[encoded data removed]",
      "text/plain": [
       "<Figure size 640x480 with 1 Axes>"
      ]
     },
     "metadata": {},
     "output_type": "display_data"
    }
   ],
   "source": [
    "traffic_accident_rate_df[\"average\"].plot(kind=\"bar\")\n",
    "plt.title(\"Traffic Accident Rate by Age Group\", size=15, pad=15)\n",
    "plt.xlabel(\"Age Group\")\n",
    "plt.ylabel(\"Traffic Accident Rate(%)\")\n",
    "plt.xticks(rotation=0)\n",
    "plt.legend(loc=\"best\")\n",
    "plt.savefig(\"./result/traffic_accident_rate_v2.png\", bbox_inches='tight')"
   ]
  },
  {
   "cell_type": "code",
   "execution_count": null,
   "id": "1cc73022-7dd4-4b8c-9772-c6bb472f3dea",
   "metadata": {},
   "outputs": [],
   "source": []
  }
 ],
 "metadata": {
  "kernelspec": {
   "display_name": "Python 3 (ipykernel)",
   "language": "python",
   "name": "python3"
  },
  "language_info": {
   "codemirror_mode": {
    "name": "ipython",
    "version": 3
   },
   "file_extension": ".py",
   "mimetype": "text/x-python",
   "name": "python",
   "nbconvert_exporter": "python",
   "pygments_lexer": "ipython3",
   "version": "3.12.3"
  }
 },
 "nbformat": 4,
 "nbformat_minor": 5
}
