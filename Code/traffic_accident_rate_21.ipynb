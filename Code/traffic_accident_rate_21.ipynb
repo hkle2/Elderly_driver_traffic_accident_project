{
 "cells": [
  {
   "cell_type": "code",
   "execution_count": 15,
   "id": "06cdfa96-9dc0-424c-8a1b-80d72a80e924",
   "metadata": {},
   "outputs": [],
   "source": [
    "from matplotlib import pyplot as plt\n",
    "from google.oauth2 import service_account\n",
    "from google.cloud import bigquery"
   ]
  },
  {
   "cell_type": "code",
   "execution_count": 16,
   "id": "315878a6-f01f-459f-8b96-6dcdf4e2517c",
   "metadata": {},
   "outputs": [],
   "source": [
    "credentials = service_account.Credentials.from_service_account_file(\"./bigquery_key.json\")\n",
    "client = bigquery.Client(\n",
    "    credentials=credentials,\n",
    "    project=credentials.project_id\n",
    ")"
   ]
  },
  {
   "cell_type": "code",
   "execution_count": 17,
   "id": "0785eff7-912b-40d0-ba98-a9502446c28e",
   "metadata": {},
   "outputs": [],
   "source": [
    "plt.rc(\"font\", family=\"Malgun Gothic\")"
   ]
  },
  {
   "cell_type": "code",
   "execution_count": 18,
   "id": "920e19ad-13c6-4346-86e7-962e3e7ba36c",
   "metadata": {},
   "outputs": [],
   "source": [
    "traffic_accident_rate_21_sql = \"\"\"\n",
    "    WITH accident AS (\n",
    "        SELECT\n",
    "            age_group, SUM(total_2020) AS total_2020\n",
    "        FROM\n",
    "            `calcium-channel-428804-c3.traffic_accident.traffic_accident_5`\n",
    "        GROUP BY\n",
    "            age_group\n",
    "        ),\n",
    "    license AS (\n",
    "        SELECT\n",
    "            age_group, SUM(total) AS total\n",
    "        FROM\n",
    "            `calcium-channel-428804-c3.traffic_accident.driver_license_20`\n",
    "        GROUP BY\n",
    "            age_group\n",
    "        )\n",
    "    SELECT\n",
    "        A.age_group, (A.total_2020 / B.total) * 100 AS traffic_rate\n",
    "    FROM\n",
    "        accident AS A INNER JOIN license AS B\n",
    "    ON\n",
    "        A.age_group = B.age_group;\n",
    "\"\"\""
   ]
  },
  {
   "cell_type": "code",
   "execution_count": 19,
   "id": "4dd86494-49c2-465e-932c-e7d4b6ee8585",
   "metadata": {},
   "outputs": [
    {
     "name": "stderr",
     "output_type": "stream",
     "text": [
      "C:\\Users\\minni\\AppData\\Local\\Programs\\Python\\Python312\\Lib\\site-packages\\google\\cloud\\bigquery\\table.py:1727: UserWarning: BigQuery Storage module not found, fetch data with the REST endpoint instead.\n",
      "  warnings.warn(\n"
     ]
    }
   ],
   "source": [
    "traffic_accident_rate_21_df = client.query(traffic_accident_rate_21_sql).to_dataframe()\n",
    "traffic_accident_rate_21_df = traffic_accident_rate_21_df.set_index(\"age_group\")"
   ]
  },
  {
   "cell_type": "code",
   "execution_count": 20,
   "id": "f78dccbb-7ffc-43c9-8f10-fb91d086804a",
   "metadata": {},
   "outputs": [
    {
     "data": {
      "text/html": [
       "<div>\n",
       "<style scoped>\n",
       "    .dataframe tbody tr th:only-of-type {\n",
       "        vertical-align: middle;\n",
       "    }\n",
       "\n",
       "    .dataframe tbody tr th {\n",
       "        vertical-align: top;\n",
       "    }\n",
       "\n",
       "    .dataframe thead th {\n",
       "        text-align: right;\n",
       "    }\n",
       "</style>\n",
       "<table border=\"1\" class=\"dataframe\">\n",
       "  <thead>\n",
       "    <tr style=\"text-align: right;\">\n",
       "      <th></th>\n",
       "      <th>traffic_rate</th>\n",
       "    </tr>\n",
       "    <tr>\n",
       "      <th>age_group</th>\n",
       "      <th></th>\n",
       "    </tr>\n",
       "  </thead>\n",
       "  <tbody>\n",
       "    <tr>\n",
       "      <th>10</th>\n",
       "      <td>2.488773</td>\n",
       "    </tr>\n",
       "    <tr>\n",
       "      <th>20</th>\n",
       "      <td>0.608348</td>\n",
       "    </tr>\n",
       "    <tr>\n",
       "      <th>30</th>\n",
       "      <td>0.497630</td>\n",
       "    </tr>\n",
       "    <tr>\n",
       "      <th>40</th>\n",
       "      <td>0.499312</td>\n",
       "    </tr>\n",
       "    <tr>\n",
       "      <th>50</th>\n",
       "      <td>0.683319</td>\n",
       "    </tr>\n",
       "    <tr>\n",
       "      <th>60</th>\n",
       "      <td>0.609804</td>\n",
       "    </tr>\n",
       "    <tr>\n",
       "      <th>65</th>\n",
       "      <td>0.843744</td>\n",
       "    </tr>\n",
       "  </tbody>\n",
       "</table>\n",
       "</div>"
      ],
      "text/plain": [
       "           traffic_rate\n",
       "age_group              \n",
       "10             2.488773\n",
       "20             0.608348\n",
       "30             0.497630\n",
       "40             0.499312\n",
       "50             0.683319\n",
       "60             0.609804\n",
       "65             0.843744"
      ]
     },
     "execution_count": 20,
     "metadata": {},
     "output_type": "execute_result"
    }
   ],
   "source": [
    "traffic_accident_rate_21_df"
   ]
  },
  {
   "cell_type": "code",
   "execution_count": 21,
   "id": "8e62d8a6-746b-41a1-b27b-3b75e580f587",
   "metadata": {},
   "outputs": [
    {
     "data": {
      "image/png": "[encoded data removed]",
      "text/plain": [
       "<Figure size 640x480 with 1 Axes>"
      ]
     },
     "metadata": {},
     "output_type": "display_data"
    }
   ],
   "source": [
    "traffic_accident_rate_21_df[\"traffic_rate\"].plot(kind=\"bar\")\n",
    "plt.title(\"2021 Traffic Accident Rate by Age Group\", size=15, pad=15)\n",
    "plt.xlabel(\"Age Group\")\n",
    "plt.ylabel(\"Traffic Accident Rate(%)\")\n",
    "plt.xticks(rotation=0)\n",
    "plt.legend(loc=\"best\")\n",
    "plt.savefig(\"./result/traffic_accident_rate_21.png\", bbox_inches='tight')"
   ]
  },
  {
   "cell_type": "code",
   "execution_count": null,
   "id": "5243ae37-c10a-4b85-a39d-2db1ec8a23aa",
   "metadata": {},
   "outputs": [],
   "source": []
  }
 ],
 "metadata": {
  "kernelspec": {
   "display_name": "Python 3 (ipykernel)",
   "language": "python",
   "name": "python3"
  },
  "language_info": {
   "codemirror_mode": {
    "name": "ipython",
    "version": 3
   },
   "file_extension": ".py",
   "mimetype": "text/x-python",
   "name": "python",
   "nbconvert_exporter": "python",
   "pygments_lexer": "ipython3",
   "version": "3.12.3"
  }
 },
 "nbformat": 4,
 "nbformat_minor": 5
}
