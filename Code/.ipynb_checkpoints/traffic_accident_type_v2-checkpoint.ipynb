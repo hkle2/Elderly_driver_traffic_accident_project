{
 "cells": [
  {
   "attachments": {},
   "cell_type": "markdown",
   "id": "a0323d9c-1e43-443d-83da-e9cde6e962c8",
   "metadata": {},
   "source": [
    "# 65세 미만 운전자 및 고령 운전자 안전운전의무불이행 교통사고 추이"
   ]
  },
  {
   "cell_type": "code",
   "execution_count": 1,
   "id": "06cdfa96-9dc0-424c-8a1b-80d72a80e924",
   "metadata": {},
   "outputs": [],
   "source": [
    "from matplotlib import pyplot as plt\n",
    "from google.oauth2 import service_account\n",
    "from google.cloud import bigquery"
   ]
  },
  {
   "cell_type": "code",
   "execution_count": 2,
   "id": "315878a6-f01f-459f-8b96-6dcdf4e2517c",
   "metadata": {},
   "outputs": [],
   "source": [
    "credentials = service_account.Credentials.from_service_account_file(\"./bigquery_key.json\")\n",
    "client = bigquery.Client(\n",
    "    credentials=credentials,\n",
    "    project=credentials.project_id\n",
    ")"
   ]
  },
  {
   "cell_type": "code",
   "execution_count": 3,
   "id": "3158caa0-20e6-429d-b6b7-b83ab1812233",
   "metadata": {},
   "outputs": [],
   "source": [
    "plt.rc(\"font\", family=\"Malgun Gothic\")"
   ]
  },
  {
   "cell_type": "code",
   "execution_count": 4,
   "id": "dd398d0a-f1bb-4273-b9fd-417d01e94b59",
   "metadata": {},
   "outputs": [],
   "source": [
    "traffic_accident_safe_sql = \"\"\"\n",
    "    SELECT\n",
    "        *\n",
    "    FROM\n",
    "        `calcium-channel-428804-c3.traffic_accident.traffic_accident_safe_5`\n",
    "    ORDER BY\n",
    "        age_group\n",
    "\"\"\""
   ]
  },
  {
   "cell_type": "code",
   "execution_count": 5,
   "id": "7dc98f79-2aaf-4eb8-bf3c-7153b00ae86c",
   "metadata": {},
   "outputs": [
    {
     "name": "stderr",
     "output_type": "stream",
     "text": [
      "C:\\Users\\minni\\AppData\\Local\\Programs\\Python\\Python312\\Lib\\site-packages\\google\\cloud\\bigquery\\table.py:1727: UserWarning: BigQuery Storage module not found, fetch data with the REST endpoint instead.\n",
      "  warnings.warn(\n"
     ]
    }
   ],
   "source": [
    "traffic_accident_safe_df = client.query(traffic_accident_safe_sql).to_dataframe()\n",
    "traffic_accident_safe_df = traffic_accident_safe_df.set_index(\"age_group\")"
   ]
  },
  {
   "cell_type": "code",
   "execution_count": 6,
   "id": "2e44de2f-0543-41bc-ba47-ea61c0209abd",
   "metadata": {},
   "outputs": [
    {
     "data": {
      "text/html": [
       "<div>\n",
       "<style scoped>\n",
       "    .dataframe tbody tr th:only-of-type {\n",
       "        vertical-align: middle;\n",
       "    }\n",
       "\n",
       "    .dataframe tbody tr th {\n",
       "        vertical-align: top;\n",
       "    }\n",
       "\n",
       "    .dataframe thead th {\n",
       "        text-align: right;\n",
       "    }\n",
       "</style>\n",
       "<table border=\"1\" class=\"dataframe\">\n",
       "  <thead>\n",
       "    <tr style=\"text-align: right;\">\n",
       "      <th></th>\n",
       "      <th>safe_2019</th>\n",
       "      <th>safe_2020</th>\n",
       "      <th>safe_2021</th>\n",
       "      <th>safe_2022</th>\n",
       "      <th>safe_2023</th>\n",
       "    </tr>\n",
       "    <tr>\n",
       "      <th>age_group</th>\n",
       "      <th></th>\n",
       "      <th></th>\n",
       "      <th></th>\n",
       "      <th></th>\n",
       "      <th></th>\n",
       "    </tr>\n",
       "  </thead>\n",
       "  <tbody>\n",
       "    <tr>\n",
       "      <th>10</th>\n",
       "      <td>3999</td>\n",
       "      <td>4027</td>\n",
       "      <td>3848</td>\n",
       "      <td>3720</td>\n",
       "      <td>3232</td>\n",
       "    </tr>\n",
       "    <tr>\n",
       "      <th>20</th>\n",
       "      <td>17070</td>\n",
       "      <td>16483</td>\n",
       "      <td>15930</td>\n",
       "      <td>15094</td>\n",
       "      <td>14051</td>\n",
       "    </tr>\n",
       "    <tr>\n",
       "      <th>30</th>\n",
       "      <td>19704</td>\n",
       "      <td>17923</td>\n",
       "      <td>16938</td>\n",
       "      <td>16524</td>\n",
       "      <td>15732</td>\n",
       "    </tr>\n",
       "    <tr>\n",
       "      <th>40</th>\n",
       "      <td>24226</td>\n",
       "      <td>21327</td>\n",
       "      <td>20405</td>\n",
       "      <td>19364</td>\n",
       "      <td>18762</td>\n",
       "    </tr>\n",
       "    <tr>\n",
       "      <th>50</th>\n",
       "      <td>30000</td>\n",
       "      <td>27664</td>\n",
       "      <td>25686</td>\n",
       "      <td>25123</td>\n",
       "      <td>24582</td>\n",
       "    </tr>\n",
       "    <tr>\n",
       "      <th>60</th>\n",
       "      <td>10473</td>\n",
       "      <td>9722</td>\n",
       "      <td>10027</td>\n",
       "      <td>10610</td>\n",
       "      <td>11050</td>\n",
       "    </tr>\n",
       "    <tr>\n",
       "      <th>65</th>\n",
       "      <td>17743</td>\n",
       "      <td>16825</td>\n",
       "      <td>16979</td>\n",
       "      <td>19002</td>\n",
       "      <td>21653</td>\n",
       "    </tr>\n",
       "  </tbody>\n",
       "</table>\n",
       "</div>"
      ],
      "text/plain": [
       "           safe_2019  safe_2020  safe_2021  safe_2022  safe_2023\n",
       "age_group                                                       \n",
       "10              3999       4027       3848       3720       3232\n",
       "20             17070      16483      15930      15094      14051\n",
       "30             19704      17923      16938      16524      15732\n",
       "40             24226      21327      20405      19364      18762\n",
       "50             30000      27664      25686      25123      24582\n",
       "60             10473       9722      10027      10610      11050\n",
       "65             17743      16825      16979      19002      21653"
      ]
     },
     "execution_count": 6,
     "metadata": {},
     "output_type": "execute_result"
    }
   ],
   "source": [
    "traffic_accident_safe_df"
   ]
  },
  {
   "cell_type": "code",
   "execution_count": 7,
   "id": "bb133768-ddd5-498b-8fc2-cff7a7ced092",
   "metadata": {},
   "outputs": [],
   "source": [
    "traffic_accident_safe_df.loc[\"65-\"] = traffic_accident_safe_df[traffic_accident_safe_df.index != 65].sum(axis=0)\n",
    "traffic_accident_safe_df = traffic_accident_safe_df.rename(index={65: \"65+\"})\n",
    "traffic_accident_safe_df = traffic_accident_safe_df.loc[[\"65-\", \"65+\"]]"
   ]
  },
  {
   "cell_type": "code",
   "execution_count": 8,
   "id": "bf18ede2-ccd2-48d2-8a2d-1bd174b0734e",
   "metadata": {},
   "outputs": [
    {
     "data": {
      "text/html": [
       "<div>\n",
       "<style scoped>\n",
       "    .dataframe tbody tr th:only-of-type {\n",
       "        vertical-align: middle;\n",
       "    }\n",
       "\n",
       "    .dataframe tbody tr th {\n",
       "        vertical-align: top;\n",
       "    }\n",
       "\n",
       "    .dataframe thead th {\n",
       "        text-align: right;\n",
       "    }\n",
       "</style>\n",
       "<table border=\"1\" class=\"dataframe\">\n",
       "  <thead>\n",
       "    <tr style=\"text-align: right;\">\n",
       "      <th></th>\n",
       "      <th>safe_2019</th>\n",
       "      <th>safe_2020</th>\n",
       "      <th>safe_2021</th>\n",
       "      <th>safe_2022</th>\n",
       "      <th>safe_2023</th>\n",
       "    </tr>\n",
       "    <tr>\n",
       "      <th>age_group</th>\n",
       "      <th></th>\n",
       "      <th></th>\n",
       "      <th></th>\n",
       "      <th></th>\n",
       "      <th></th>\n",
       "    </tr>\n",
       "  </thead>\n",
       "  <tbody>\n",
       "    <tr>\n",
       "      <th>65-</th>\n",
       "      <td>105472</td>\n",
       "      <td>97146</td>\n",
       "      <td>92834</td>\n",
       "      <td>90435</td>\n",
       "      <td>87409</td>\n",
       "    </tr>\n",
       "    <tr>\n",
       "      <th>65+</th>\n",
       "      <td>17743</td>\n",
       "      <td>16825</td>\n",
       "      <td>16979</td>\n",
       "      <td>19002</td>\n",
       "      <td>21653</td>\n",
       "    </tr>\n",
       "  </tbody>\n",
       "</table>\n",
       "</div>"
      ],
      "text/plain": [
       "           safe_2019  safe_2020  safe_2021  safe_2022  safe_2023\n",
       "age_group                                                       \n",
       "65-           105472      97146      92834      90435      87409\n",
       "65+            17743      16825      16979      19002      21653"
      ]
     },
     "execution_count": 8,
     "metadata": {},
     "output_type": "execute_result"
    }
   ],
   "source": [
    "traffic_accident_safe_df"
   ]
  },
  {
   "cell_type": "code",
   "execution_count": 9,
   "id": "33ce830a-d91d-438d-8104-f869556e1452",
   "metadata": {},
   "outputs": [
    {
     "data": {
      "image/png": "[encoded data removed]",
      "text/plain": [
       "<Figure size 640x480 with 1 Axes>"
      ]
     },
     "metadata": {},
     "output_type": "display_data"
    }
   ],
   "source": [
    "year_labels = [\"2019\", \"2020\", \"2021\", \"2022\", \"2023\"]\n",
    "plt.title(\"Number of Traffic Accident in Non-compliance with Safe Driving\", size=15, pad=15)\n",
    "plt.xlabel(\"Year\")\n",
    "plt.ylabel(\"Number of Traffic Accident\")\n",
    "plt.plot(traffic_accident_safe_df.loc[\"65-\"], marker=\"o\", label=\"65-_age_group\")\n",
    "plt.plot(traffic_accident_safe_df.loc[\"65+\"], marker=\"o\", label=\"65+_age_group\")\n",
    "plt.xticks(ticks=range(len(year_labels)), labels=year_labels)\n",
    "plt.legend(loc=\"best\")\n",
    "plt.savefig(\"./result/traffic_accident_safe.png\", bbox_inches=\"tight\")"
   ]
  },
  {
   "cell_type": "code",
   "execution_count": null,
   "id": "d7c9b5fa-1ed6-4496-9db3-41b3e9c818c2",
   "metadata": {},
   "outputs": [],
   "source": []
  }
 ],
 "metadata": {
  "kernelspec": {
   "display_name": "Python 3 (ipykernel)",
   "language": "python",
   "name": "python3"
  },
  "language_info": {
   "codemirror_mode": {
    "name": "ipython",
    "version": 3
   },
   "file_extension": ".py",
   "mimetype": "text/x-python",
   "name": "python",
   "nbconvert_exporter": "python",
   "pygments_lexer": "ipython3",
   "version": "3.12.3"
  }
 },
 "nbformat": 4,
 "nbformat_minor": 5
}
